{
 "cells": [
  {
   "cell_type": "code",
   "execution_count": 1,
   "id": "44baf4b7-062c-45cd-80de-758bb94e9980",
   "metadata": {},
   "outputs": [
    {
     "name": "stderr",
     "output_type": "stream",
     "text": [
      "\n",
      "[notice] A new release of pip is available: 24.0 -> 25.0.1\n",
      "[notice] To update, run: python.exe -m pip install --upgrade pip\n"
     ]
    }
   ],
   "source": [
    "!pip install pandas --upgrade --quiet"
   ]
  },
  {
   "cell_type": "code",
   "execution_count": 2,
   "id": "18501eeb-2a1e-4325-85b7-1de501cb9fe5",
   "metadata": {},
   "outputs": [
    {
     "name": "stderr",
     "output_type": "stream",
     "text": [
      "\n",
      "[notice] A new release of pip is available: 24.0 -> 25.0.1\n",
      "[notice] To update, run: python.exe -m pip install --upgrade pip\n"
     ]
    }
   ],
   "source": [
    "!pip install openpyxl --upgrade --quiet"
   ]
  },
  {
   "cell_type": "code",
   "execution_count": 3,
   "id": "6cede306-ca86-4477-bba8-d8b35c52af54",
   "metadata": {},
   "outputs": [
    {
     "name": "stderr",
     "output_type": "stream",
     "text": [
      "\n",
      "[notice] A new release of pip is available: 24.0 -> 25.0.1\n",
      "[notice] To update, run: python.exe -m pip install --upgrade pip\n"
     ]
    }
   ],
   "source": [
    "!pip install scikit-learn --upgrade --quiet"
   ]
  },
  {
   "cell_type": "code",
   "execution_count": 4,
   "id": "2a2a149d-e2b9-4d71-8651-f8568ea0e026",
   "metadata": {},
   "outputs": [],
   "source": [
    "import pandas as pd\n",
    "from sklearn.preprocessing import StandardScaler\n",
    "from sklearn.cluster import KMeans"
   ]
  },
  {
   "cell_type": "code",
   "execution_count": 5,
   "id": "d751f9f9-a6bb-4be3-8966-a78ec7839e1e",
   "metadata": {},
   "outputs": [],
   "source": [
    "data_url = 'https://archive.ics.uci.edu/ml/machine-learning-databases/00352/Online%20Retail.xlsx'"
   ]
  },
  {
   "cell_type": "code",
   "execution_count": 6,
   "id": "df90ae62-d133-4878-bba0-a09c9a71d7f4",
   "metadata": {},
   "outputs": [],
   "source": [
    "# TASK 1: Load the data into a DataFrame. Provide the correct method and arguments.\n",
    "df=pd.read_excel(data_url)\n"
   ]
  },
  {
   "cell_type": "code",
   "execution_count": 7,
   "id": "811b104a-fd0e-4d20-af8a-f30d261ab8c9",
   "metadata": {},
   "outputs": [
    {
     "data": {
      "text/html": [
       "<div>\n",
       "<style scoped>\n",
       "    .dataframe tbody tr th:only-of-type {\n",
       "        vertical-align: middle;\n",
       "    }\n",
       "\n",
       "    .dataframe tbody tr th {\n",
       "        vertical-align: top;\n",
       "    }\n",
       "\n",
       "    .dataframe thead th {\n",
       "        text-align: right;\n",
       "    }\n",
       "</style>\n",
       "<table border=\"1\" class=\"dataframe\">\n",
       "  <thead>\n",
       "    <tr style=\"text-align: right;\">\n",
       "      <th></th>\n",
       "      <th>InvoiceNo</th>\n",
       "      <th>StockCode</th>\n",
       "      <th>Description</th>\n",
       "      <th>Quantity</th>\n",
       "      <th>InvoiceDate</th>\n",
       "      <th>UnitPrice</th>\n",
       "      <th>CustomerID</th>\n",
       "      <th>Country</th>\n",
       "    </tr>\n",
       "  </thead>\n",
       "  <tbody>\n",
       "    <tr>\n",
       "      <th>0</th>\n",
       "      <td>536365</td>\n",
       "      <td>85123A</td>\n",
       "      <td>WHITE HANGING HEART T-LIGHT HOLDER</td>\n",
       "      <td>6</td>\n",
       "      <td>2010-12-01 08:26:00</td>\n",
       "      <td>2.55</td>\n",
       "      <td>17850.0</td>\n",
       "      <td>United Kingdom</td>\n",
       "    </tr>\n",
       "    <tr>\n",
       "      <th>1</th>\n",
       "      <td>536365</td>\n",
       "      <td>71053</td>\n",
       "      <td>WHITE METAL LANTERN</td>\n",
       "      <td>6</td>\n",
       "      <td>2010-12-01 08:26:00</td>\n",
       "      <td>3.39</td>\n",
       "      <td>17850.0</td>\n",
       "      <td>United Kingdom</td>\n",
       "    </tr>\n",
       "    <tr>\n",
       "      <th>2</th>\n",
       "      <td>536365</td>\n",
       "      <td>84406B</td>\n",
       "      <td>CREAM CUPID HEARTS COAT HANGER</td>\n",
       "      <td>8</td>\n",
       "      <td>2010-12-01 08:26:00</td>\n",
       "      <td>2.75</td>\n",
       "      <td>17850.0</td>\n",
       "      <td>United Kingdom</td>\n",
       "    </tr>\n",
       "    <tr>\n",
       "      <th>3</th>\n",
       "      <td>536365</td>\n",
       "      <td>84029G</td>\n",
       "      <td>KNITTED UNION FLAG HOT WATER BOTTLE</td>\n",
       "      <td>6</td>\n",
       "      <td>2010-12-01 08:26:00</td>\n",
       "      <td>3.39</td>\n",
       "      <td>17850.0</td>\n",
       "      <td>United Kingdom</td>\n",
       "    </tr>\n",
       "    <tr>\n",
       "      <th>4</th>\n",
       "      <td>536365</td>\n",
       "      <td>84029E</td>\n",
       "      <td>RED WOOLLY HOTTIE WHITE HEART.</td>\n",
       "      <td>6</td>\n",
       "      <td>2010-12-01 08:26:00</td>\n",
       "      <td>3.39</td>\n",
       "      <td>17850.0</td>\n",
       "      <td>United Kingdom</td>\n",
       "    </tr>\n",
       "    <tr>\n",
       "      <th>...</th>\n",
       "      <td>...</td>\n",
       "      <td>...</td>\n",
       "      <td>...</td>\n",
       "      <td>...</td>\n",
       "      <td>...</td>\n",
       "      <td>...</td>\n",
       "      <td>...</td>\n",
       "      <td>...</td>\n",
       "    </tr>\n",
       "    <tr>\n",
       "      <th>541904</th>\n",
       "      <td>581587</td>\n",
       "      <td>22613</td>\n",
       "      <td>PACK OF 20 SPACEBOY NAPKINS</td>\n",
       "      <td>12</td>\n",
       "      <td>2011-12-09 12:50:00</td>\n",
       "      <td>0.85</td>\n",
       "      <td>12680.0</td>\n",
       "      <td>France</td>\n",
       "    </tr>\n",
       "    <tr>\n",
       "      <th>541905</th>\n",
       "      <td>581587</td>\n",
       "      <td>22899</td>\n",
       "      <td>CHILDREN'S APRON DOLLY GIRL</td>\n",
       "      <td>6</td>\n",
       "      <td>2011-12-09 12:50:00</td>\n",
       "      <td>2.10</td>\n",
       "      <td>12680.0</td>\n",
       "      <td>France</td>\n",
       "    </tr>\n",
       "    <tr>\n",
       "      <th>541906</th>\n",
       "      <td>581587</td>\n",
       "      <td>23254</td>\n",
       "      <td>CHILDRENS CUTLERY DOLLY GIRL</td>\n",
       "      <td>4</td>\n",
       "      <td>2011-12-09 12:50:00</td>\n",
       "      <td>4.15</td>\n",
       "      <td>12680.0</td>\n",
       "      <td>France</td>\n",
       "    </tr>\n",
       "    <tr>\n",
       "      <th>541907</th>\n",
       "      <td>581587</td>\n",
       "      <td>23255</td>\n",
       "      <td>CHILDRENS CUTLERY CIRCUS PARADE</td>\n",
       "      <td>4</td>\n",
       "      <td>2011-12-09 12:50:00</td>\n",
       "      <td>4.15</td>\n",
       "      <td>12680.0</td>\n",
       "      <td>France</td>\n",
       "    </tr>\n",
       "    <tr>\n",
       "      <th>541908</th>\n",
       "      <td>581587</td>\n",
       "      <td>22138</td>\n",
       "      <td>BAKING SET 9 PIECE RETROSPOT</td>\n",
       "      <td>3</td>\n",
       "      <td>2011-12-09 12:50:00</td>\n",
       "      <td>4.95</td>\n",
       "      <td>12680.0</td>\n",
       "      <td>France</td>\n",
       "    </tr>\n",
       "  </tbody>\n",
       "</table>\n",
       "<p>541909 rows × 8 columns</p>\n",
       "</div>"
      ],
      "text/plain": [
       "       InvoiceNo StockCode                          Description  Quantity  \\\n",
       "0         536365    85123A   WHITE HANGING HEART T-LIGHT HOLDER         6   \n",
       "1         536365     71053                  WHITE METAL LANTERN         6   \n",
       "2         536365    84406B       CREAM CUPID HEARTS COAT HANGER         8   \n",
       "3         536365    84029G  KNITTED UNION FLAG HOT WATER BOTTLE         6   \n",
       "4         536365    84029E       RED WOOLLY HOTTIE WHITE HEART.         6   \n",
       "...          ...       ...                                  ...       ...   \n",
       "541904    581587     22613          PACK OF 20 SPACEBOY NAPKINS        12   \n",
       "541905    581587     22899         CHILDREN'S APRON DOLLY GIRL          6   \n",
       "541906    581587     23254        CHILDRENS CUTLERY DOLLY GIRL          4   \n",
       "541907    581587     23255      CHILDRENS CUTLERY CIRCUS PARADE         4   \n",
       "541908    581587     22138        BAKING SET 9 PIECE RETROSPOT          3   \n",
       "\n",
       "               InvoiceDate  UnitPrice  CustomerID         Country  \n",
       "0      2010-12-01 08:26:00       2.55     17850.0  United Kingdom  \n",
       "1      2010-12-01 08:26:00       3.39     17850.0  United Kingdom  \n",
       "2      2010-12-01 08:26:00       2.75     17850.0  United Kingdom  \n",
       "3      2010-12-01 08:26:00       3.39     17850.0  United Kingdom  \n",
       "4      2010-12-01 08:26:00       3.39     17850.0  United Kingdom  \n",
       "...                    ...        ...         ...             ...  \n",
       "541904 2011-12-09 12:50:00       0.85     12680.0          France  \n",
       "541905 2011-12-09 12:50:00       2.10     12680.0          France  \n",
       "541906 2011-12-09 12:50:00       4.15     12680.0          France  \n",
       "541907 2011-12-09 12:50:00       4.15     12680.0          France  \n",
       "541908 2011-12-09 12:50:00       4.95     12680.0          France  \n",
       "\n",
       "[541909 rows x 8 columns]"
      ]
     },
     "execution_count": 7,
     "metadata": {},
     "output_type": "execute_result"
    }
   ],
   "source": [
    "df"
   ]
  },
  {
   "cell_type": "code",
   "execution_count": 8,
   "id": "d9402c35-ee4f-4492-8b7d-4b79fc6b71ce",
   "metadata": {},
   "outputs": [
    {
     "name": "stdout",
     "output_type": "stream",
     "text": [
      "<class 'pandas.core.frame.DataFrame'>\n",
      "RangeIndex: 541909 entries, 0 to 541908\n",
      "Data columns (total 8 columns):\n",
      " #   Column       Non-Null Count   Dtype         \n",
      "---  ------       --------------   -----         \n",
      " 0   InvoiceNo    541909 non-null  object        \n",
      " 1   StockCode    541909 non-null  object        \n",
      " 2   Description  540455 non-null  object        \n",
      " 3   Quantity     541909 non-null  int64         \n",
      " 4   InvoiceDate  541909 non-null  datetime64[ns]\n",
      " 5   UnitPrice    541909 non-null  float64       \n",
      " 6   CustomerID   406829 non-null  float64       \n",
      " 7   Country      541909 non-null  object        \n",
      "dtypes: datetime64[ns](1), float64(2), int64(1), object(4)\n",
      "memory usage: 33.1+ MB\n"
     ]
    }
   ],
   "source": [
    "df.info()"
   ]
  },
  {
   "cell_type": "code",
   "execution_count": 9,
   "id": "67f45256-28b8-4ddc-97e3-a26c2bcdfecc",
   "metadata": {},
   "outputs": [
    {
     "data": {
      "text/html": [
       "<div>\n",
       "<style scoped>\n",
       "    .dataframe tbody tr th:only-of-type {\n",
       "        vertical-align: middle;\n",
       "    }\n",
       "\n",
       "    .dataframe tbody tr th {\n",
       "        vertical-align: top;\n",
       "    }\n",
       "\n",
       "    .dataframe thead th {\n",
       "        text-align: right;\n",
       "    }\n",
       "</style>\n",
       "<table border=\"1\" class=\"dataframe\">\n",
       "  <thead>\n",
       "    <tr style=\"text-align: right;\">\n",
       "      <th></th>\n",
       "      <th>Quantity</th>\n",
       "      <th>InvoiceDate</th>\n",
       "      <th>UnitPrice</th>\n",
       "      <th>CustomerID</th>\n",
       "    </tr>\n",
       "  </thead>\n",
       "  <tbody>\n",
       "    <tr>\n",
       "      <th>count</th>\n",
       "      <td>541909.000000</td>\n",
       "      <td>541909</td>\n",
       "      <td>541909.000000</td>\n",
       "      <td>406829.000000</td>\n",
       "    </tr>\n",
       "    <tr>\n",
       "      <th>mean</th>\n",
       "      <td>9.552250</td>\n",
       "      <td>2011-07-04 13:34:57.156386048</td>\n",
       "      <td>4.611114</td>\n",
       "      <td>15287.690570</td>\n",
       "    </tr>\n",
       "    <tr>\n",
       "      <th>min</th>\n",
       "      <td>-80995.000000</td>\n",
       "      <td>2010-12-01 08:26:00</td>\n",
       "      <td>-11062.060000</td>\n",
       "      <td>12346.000000</td>\n",
       "    </tr>\n",
       "    <tr>\n",
       "      <th>25%</th>\n",
       "      <td>1.000000</td>\n",
       "      <td>2011-03-28 11:34:00</td>\n",
       "      <td>1.250000</td>\n",
       "      <td>13953.000000</td>\n",
       "    </tr>\n",
       "    <tr>\n",
       "      <th>50%</th>\n",
       "      <td>3.000000</td>\n",
       "      <td>2011-07-19 17:17:00</td>\n",
       "      <td>2.080000</td>\n",
       "      <td>15152.000000</td>\n",
       "    </tr>\n",
       "    <tr>\n",
       "      <th>75%</th>\n",
       "      <td>10.000000</td>\n",
       "      <td>2011-10-19 11:27:00</td>\n",
       "      <td>4.130000</td>\n",
       "      <td>16791.000000</td>\n",
       "    </tr>\n",
       "    <tr>\n",
       "      <th>max</th>\n",
       "      <td>80995.000000</td>\n",
       "      <td>2011-12-09 12:50:00</td>\n",
       "      <td>38970.000000</td>\n",
       "      <td>18287.000000</td>\n",
       "    </tr>\n",
       "    <tr>\n",
       "      <th>std</th>\n",
       "      <td>218.081158</td>\n",
       "      <td>NaN</td>\n",
       "      <td>96.759853</td>\n",
       "      <td>1713.600303</td>\n",
       "    </tr>\n",
       "  </tbody>\n",
       "</table>\n",
       "</div>"
      ],
      "text/plain": [
       "            Quantity                    InvoiceDate      UnitPrice  \\\n",
       "count  541909.000000                         541909  541909.000000   \n",
       "mean        9.552250  2011-07-04 13:34:57.156386048       4.611114   \n",
       "min    -80995.000000            2010-12-01 08:26:00  -11062.060000   \n",
       "25%         1.000000            2011-03-28 11:34:00       1.250000   \n",
       "50%         3.000000            2011-07-19 17:17:00       2.080000   \n",
       "75%        10.000000            2011-10-19 11:27:00       4.130000   \n",
       "max     80995.000000            2011-12-09 12:50:00   38970.000000   \n",
       "std       218.081158                            NaN      96.759853   \n",
       "\n",
       "          CustomerID  \n",
       "count  406829.000000  \n",
       "mean    15287.690570  \n",
       "min     12346.000000  \n",
       "25%     13953.000000  \n",
       "50%     15152.000000  \n",
       "75%     16791.000000  \n",
       "max     18287.000000  \n",
       "std      1713.600303  "
      ]
     },
     "execution_count": 9,
     "metadata": {},
     "output_type": "execute_result"
    }
   ],
   "source": [
    "df.describe()"
   ]
  },
  {
   "cell_type": "code",
   "execution_count": 10,
   "id": "8d96b558-2406-4f94-a94c-5ceb9f46d964",
   "metadata": {},
   "outputs": [],
   "source": [
    "df['InvoiceDate'] = pd.to_datetime(df['InvoiceDate'])"
   ]
  },
  {
   "cell_type": "code",
   "execution_count": 11,
   "id": "b0ef6f52-2928-4315-8d12-b7ce33a9be97",
   "metadata": {},
   "outputs": [],
   "source": [
    "df['Total_Bill'] =df['Quantity'] * df['UnitPrice']"
   ]
  },
  {
   "cell_type": "code",
   "execution_count": 12,
   "id": "7cad713f-1fc7-4945-a3a8-7a87ca569e21",
   "metadata": {},
   "outputs": [],
   "source": [
    "# Aggregate data at the customer level\n",
    "customer_df = df.groupby('CustomerID').agg(\n",
    "    Total_Bill_Size=('Total_Bill', 'sum'),\n",
    "    First_Purchase=('InvoiceDate', 'min'),\n",
    "    Last_Purchase=('InvoiceDate', 'max'),\n",
    "    Most_Common_Location=('Country', lambda x: x.mode()[0]),\n",
    "    Top_Item=('StockCode', lambda x: x.value_counts().idxmax())\n",
    ")\n"
   ]
  },
  {
   "cell_type": "code",
   "execution_count": 13,
   "id": "07f4f212-9e09-4f0e-b38c-48144136e2c2",
   "metadata": {},
   "outputs": [],
   "source": [
    "# TASK 4: Calculate the purchase interval in days.\n",
    "customer_df['Purchase_Interval_Days'] = (customer_df['Last_Purchase'] - customer_df['First_Purchase']).dt.days\n"
   ]
  },
  {
   "cell_type": "code",
   "execution_count": 14,
   "id": "54471c7c-3e42-4a98-8ca1-eb5b9ca08e3b",
   "metadata": {},
   "outputs": [
    {
     "name": "stdout",
     "output_type": "stream",
     "text": [
      "   CustomerID  Total_Bill_Size      First_Purchase       Last_Purchase  \\\n",
      "0     12346.0             0.00 2011-01-18 10:01:00 2011-01-18 10:17:00   \n",
      "1     12347.0          4310.00 2010-12-07 14:57:00 2011-12-07 15:52:00   \n",
      "2     12348.0          1797.24 2010-12-16 19:09:00 2011-09-25 13:13:00   \n",
      "3     12349.0          1757.55 2011-11-21 09:51:00 2011-11-21 09:51:00   \n",
      "4     12350.0           334.40 2011-02-02 16:01:00 2011-02-02 16:01:00   \n",
      "\n",
      "  Most_Common_Location Top_Item  Purchase_Interval_Days  \n",
      "0       United Kingdom    23166                       0  \n",
      "1              Iceland    22375                     365  \n",
      "2              Finland     POST                     282  \n",
      "3                Italy    23112                       0  \n",
      "4               Norway    21908                       0  \n"
     ]
    }
   ],
   "source": [
    "# Reset index to have 'CustomerID' as a column\n",
    "customer_df.reset_index(inplace=True)\n",
    "\n",
    "# Display the customer-level dataframe\n",
    "print(customer_df.head())"
   ]
  },
  {
   "cell_type": "code",
   "execution_count": null,
   "id": "1950c44d-bd4f-42d6-b6a9-69aa32bc9615",
   "metadata": {},
   "outputs": [],
   "source": []
  },
  {
   "cell_type": "code",
   "execution_count": 15,
   "id": "3bda9c88-a384-4b8b-8bc0-89021559ead3",
   "metadata": {},
   "outputs": [],
   "source": [
    "# Standardize the 'Total_Bill_Size' feature\n",
    "scaler = StandardScaler()\n",
    "customer_df['Total_Bill_Size_Scaled'] = scaler.fit_transform(customer_df[['Total_Bill_Size']])\n"
   ]
  },
  {
   "cell_type": "code",
   "execution_count": 16,
   "id": "611f8c69-9f91-4124-9ec9-a91c2b9f2cef",
   "metadata": {},
   "outputs": [],
   "source": [
    "# TASK 5: Implement K-Means clustering.\n",
    "#Choose an appropriate number of clusters and set a random state for reproducibility.\n",
    "# Perform K-Means clustering\n",
    "kmeans = KMeans(n_clusters=5, random_state=42)\n",
    "customer_df['Cluster'] = scaler.fit_transform(customer_df[['Total_Bill_Size']])"
   ]
  },
  {
   "cell_type": "code",
   "execution_count": 25,
   "id": "0fcb6850-43e1-4d01-bede-86d5ff1fbd8c",
   "metadata": {},
   "outputs": [],
   "source": [
    "\n",
    "# Function to summarize cluster information with improved readability\n",
    "def summarize_cluster_info(clustered_df):\n",
    "    for i in range(kmeans.n_clusters):\n",
    "        cluster_data = clustered_df[clustered_df['Cluster'] == i]\n",
    "        # TASK 6: Print a summary of each cluster.\n",
    "        # Include customer count, average spend, top locations, and top items.\n",
    "        print(f\"\\nCluster {i} Summary:\")\n",
    "\n",
    "        # Customer count in each cluster\n",
    "        customer_count = len(cluster_data)\n",
    "        print(f\"Number of Customers in the cluster: {customer_count}\")\n",
    "\n",
    "        # Average spend in each cluster\n",
    "        avg_spend = cluster_data['Total_Bill_Size'].mean()\n",
    "        print(f\"Average Spend: ${avg_spend:.2f}\")\n",
    "\n",
    "        # Top 3 Locations with counts\n",
    "        top_locations = cluster_data['Most_Common_Location'].value_counts().head(3)\n",
    "        print(\"Top 3 Locations:\")\n",
    "        for location, count in top_locations.items():\n",
    "            print(f\"{location}: {count} customers\")\n",
    "\n",
    "        # Top 3 Items with counts\n",
    "        top_items = cluster_data['Top_Item'].value_counts().head(3)\n",
    "        print(\"Top 3 Item Codes:\")\n",
    "        for item, count in top_items.items():\n",
    "            print(f\"{item}: {count} times purchased\")"
   ]
  },
  {
   "cell_type": "code",
   "execution_count": 26,
   "id": "2668faad-10d9-493c-900f-bc484b06249b",
   "metadata": {},
   "outputs": [
    {
     "name": "stdout",
     "output_type": "stream",
     "text": [
      "\n",
      "Cluster 0 Summary:\n",
      "Number of Customers in the cluster: 0\n",
      "Average Spend: $nan\n",
      "Top 3 Locations:\n",
      "Top 3 Item Codes:\n",
      "\n",
      "Cluster 1 Summary:\n",
      "Number of Customers in the cluster: 0\n",
      "Average Spend: $nan\n",
      "Top 3 Locations:\n",
      "Top 3 Item Codes:\n",
      "\n",
      "Cluster 2 Summary:\n",
      "Number of Customers in the cluster: 0\n",
      "Average Spend: $nan\n",
      "Top 3 Locations:\n",
      "Top 3 Item Codes:\n",
      "\n",
      "Cluster 3 Summary:\n",
      "Number of Customers in the cluster: 0\n",
      "Average Spend: $nan\n",
      "Top 3 Locations:\n",
      "Top 3 Item Codes:\n",
      "\n",
      "Cluster 4 Summary:\n",
      "Number of Customers in the cluster: 0\n",
      "Average Spend: $nan\n",
      "Top 3 Locations:\n",
      "Top 3 Item Codes:\n"
     ]
    }
   ],
   "source": [
    "# Call the function to display the summary\n",
    "summarize_cluster_info(customer_df)"
   ]
  },
  {
   "cell_type": "code",
   "execution_count": null,
   "id": "4781c66a-0f9e-4255-bff9-0b248dfea186",
   "metadata": {},
   "outputs": [],
   "source": []
  },
  {
   "cell_type": "code",
   "execution_count": 28,
   "id": "c5cd7b13-4570-45ac-b864-d5b358537f68",
   "metadata": {},
   "outputs": [],
   "source": [
    "\n",
    "import pandas as pd\n",
    "from sklearn.preprocessing import StandardScaler\n",
    "from sklearn.cluster import DBSCAN\n",
    "from sklearn.metrics import silhouette_score\n",
    "import matplotlib.pyplot as plt"
   ]
  },
  {
   "cell_type": "code",
   "execution_count": 29,
   "id": "39e76099-2130-436f-9870-9d903e8a6793",
   "metadata": {},
   "outputs": [],
   "source": [
    "# Load the data\n",
    "data_url = 'https://archive.ics.uci.edu/ml/machine-learning-databases/00352/Online%20Retail.xlsx'\n",
    "df = pd.read_excel(data_url)\n"
   ]
  },
  {
   "cell_type": "code",
   "execution_count": 30,
   "id": "cba6347f-0ce0-45f6-b1db-c400a99f098a",
   "metadata": {},
   "outputs": [],
   "source": [
    "# Preprocess the data\n",
    "df['InvoiceDate'] = pd.to_datetime(df['InvoiceDate'])\n",
    "df['Total_Bill'] = df['Quantity'] * df['UnitPrice']\n",
    "customer_df = df.groupby('CustomerID').agg(\n",
    "    Total_Bill_Size=('Total_Bill', 'sum'),\n",
    "    Purchase_Interval_Days=('InvoiceDate', lambda x: (x.max() - x.min()).days)\n",
    ").reset_index()\n"
   ]
  },
  {
   "cell_type": "code",
   "execution_count": 31,
   "id": "711e8825-92e3-4f11-be28-4d517ea543ab",
   "metadata": {},
   "outputs": [],
   "source": [
    "# Normalize the features\n",
    "scaler = StandardScaler()\n",
    "features = scaler.fit_transform(customer_df[['Total_Bill_Size', 'Purchase_Interval_Days']])\n"
   ]
  },
  {
   "cell_type": "code",
   "execution_count": 32,
   "id": "22289f92-4239-4f65-b4e6-3877f394968b",
   "metadata": {},
   "outputs": [],
   "source": [
    "# Apply DBSCAN\n",
    "dbscan = DBSCAN(eps=0.5, min_samples=5)\n",
    "clusters = dbscan.fit_predict(features)"
   ]
  },
  {
   "cell_type": "code",
   "execution_count": 33,
   "id": "31df3927-3465-4473-a320-4d44e51bf4ae",
   "metadata": {},
   "outputs": [],
   "source": [
    "# Add clusters back to the dataframe\n",
    "customer_df['Cluster'] = clusters"
   ]
  },
  {
   "cell_type": "code",
   "execution_count": 34,
   "id": "e5e7f7b7-f197-4deb-979f-7b443f0c554f",
   "metadata": {},
   "outputs": [
    {
     "name": "stdout",
     "output_type": "stream",
     "text": [
      "Cluster counts:\n",
      "Cluster\n",
      " 0    4337\n",
      " 1      16\n",
      "-1      12\n",
      " 2       7\n",
      "Name: count, dtype: int64\n"
     ]
    }
   ],
   "source": [
    "# Display clustering results\n",
    "print(\"Cluster counts:\")\n",
    "print(customer_df['Cluster'].value_counts())"
   ]
  },
  {
   "cell_type": "code",
   "execution_count": 35,
   "id": "c21287fa-62cc-4370-8c86-92d02e6d57fd",
   "metadata": {},
   "outputs": [
    {
     "name": "stdout",
     "output_type": "stream",
     "text": [
      "Noise points count: 12\n"
     ]
    }
   ],
   "source": [
    "# Identify and display noise points\n",
    "noise = customer_df[customer_df['Cluster'] == -1]\n",
    "print(f\"Noise points count: {len(noise)}\")\n"
   ]
  },
  {
   "cell_type": "code",
   "execution_count": 36,
   "id": "ca89af22-a7a4-4f22-97f7-97281e8d141e",
   "metadata": {},
   "outputs": [
    {
     "data": {
      "image/png": "[encoded data removed]",
      "text/plain": [
       "<Figure size 640x480 with 2 Axes>"
      ]
     },
     "metadata": {},
     "output_type": "display_data"
    }
   ],
   "source": [
    "# Visualizing the results\n",
    "plt.scatter(features[:, 0], features[:, 1], c=clusters, cmap='viridis', marker='o')\n",
    "plt.title('DBSCAN Clustering')\n",
    "plt.xlabel('Scaled Total Bill Size')\n",
    "plt.ylabel('Scaled Purchase Interval Days')\n",
    "plt.colorbar(label='Cluster Label')\n",
    "plt.show()\n"
   ]
  },
  {
   "cell_type": "code",
   "execution_count": 37,
   "id": "b379b587-6603-4fa9-9d62-646b265f017b",
   "metadata": {},
   "outputs": [
    {
     "name": "stdout",
     "output_type": "stream",
     "text": [
      "\n",
      "Cluster 0 Summary:\n",
      "Number of Customers: 4337\n",
      "Average Total Bill: 1381.65\n",
      "Average Purchase Interval: 131.72\n",
      "\n",
      "Cluster 1 Summary:\n",
      "Number of Customers: 16\n",
      "Average Total Bill: 30720.77\n",
      "Average Purchase Interval: 353.69\n",
      "\n",
      "Cluster 2 Summary:\n",
      "Number of Customers: 7\n",
      "Average Total Bill: 52637.10\n",
      "Average Purchase Interval: 353.00\n"
     ]
    }
   ],
   "source": [
    "# Summary of results\n",
    "def summarize_clusters(df):\n",
    "    grouped = df.groupby('Cluster')\n",
    "    for key, group in grouped:\n",
    "        if key == -1:\n",
    "            continue  # Skip the noise points for detailed summary\n",
    "        print(f\"\\nCluster {key} Summary:\")\n",
    "        print(f\"Number of Customers: {len(group)}\")\n",
    "        avg_bill = group['Total_Bill_Size'].mean()\n",
    "        avg_interval = group['Purchase_Interval_Days'].mean()\n",
    "        print(f\"Average Total Bill: {avg_bill:.2f}\")\n",
    "        print(f\"Average Purchase Interval: {avg_interval:.2f}\")\n",
    "\n",
    "summarize_clusters(customer_df)"
   ]
  },
  {
   "cell_type": "code",
   "execution_count": null,
   "id": "8b0fdcc2-c556-4a6f-8d17-0c64cdb99403",
   "metadata": {},
   "outputs": [],
   "source": []
  }
 ],
 "metadata": {
  "kernelspec": {
   "display_name": "Python 3 (ipykernel)",
   "language": "python",
   "name": "python3"
  },
  "language_info": {
   "codemirror_mode": {
    "name": "ipython",
    "version": 3
   },
   "file_extension": ".py",
   "mimetype": "text/x-python",
   "name": "python",
   "nbconvert_exporter": "python",
   "pygments_lexer": "ipython3",
   "version": "3.12.4"
  }
 },
 "nbformat": 4,
 "nbformat_minor": 5
}
